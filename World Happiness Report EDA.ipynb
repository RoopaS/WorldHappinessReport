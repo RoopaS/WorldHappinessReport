{
 "cells": [
  {
   "cell_type": "code",
   "execution_count": 1,
   "metadata": {},
   "outputs": [],
   "source": [
    "import numpy as np\n",
    "import pandas as pd\n",
    "import matplotlib.pyplot as plt\n",
    "import seaborn as sns"
   ]
  },
  {
   "cell_type": "code",
   "execution_count": 2,
   "metadata": {},
   "outputs": [
    {
     "data": {
      "text/html": [
       "<div>\n",
       "<style scoped>\n",
       "    .dataframe tbody tr th:only-of-type {\n",
       "        vertical-align: middle;\n",
       "    }\n",
       "\n",
       "    .dataframe tbody tr th {\n",
       "        vertical-align: top;\n",
       "    }\n",
       "\n",
       "    .dataframe thead th {\n",
       "        text-align: right;\n",
       "    }\n",
       "</style>\n",
       "<table border=\"1\" class=\"dataframe\">\n",
       "  <thead>\n",
       "    <tr style=\"text-align: right;\">\n",
       "      <th></th>\n",
       "      <th></th>\n",
       "      <th>Life Ladder</th>\n",
       "      <th>Log GDP per capita</th>\n",
       "      <th>Social support</th>\n",
       "      <th>Healthy life expectancy at birth</th>\n",
       "      <th>Freedom to make life choices</th>\n",
       "      <th>Generosity</th>\n",
       "      <th>Perceptions of corruption</th>\n",
       "      <th>Positive affect</th>\n",
       "      <th>Negative affect</th>\n",
       "    </tr>\n",
       "    <tr>\n",
       "      <th>Country name</th>\n",
       "      <th>year</th>\n",
       "      <th></th>\n",
       "      <th></th>\n",
       "      <th></th>\n",
       "      <th></th>\n",
       "      <th></th>\n",
       "      <th></th>\n",
       "      <th></th>\n",
       "      <th></th>\n",
       "      <th></th>\n",
       "    </tr>\n",
       "  </thead>\n",
       "  <tbody>\n",
       "    <tr>\n",
       "      <th rowspan=\"5\" valign=\"top\">Afghanistan</th>\n",
       "      <th>2008</th>\n",
       "      <td>3.723590</td>\n",
       "      <td>7.370100</td>\n",
       "      <td>0.450662</td>\n",
       "      <td>50.799999</td>\n",
       "      <td>0.718114</td>\n",
       "      <td>0.167640</td>\n",
       "      <td>0.881686</td>\n",
       "      <td>0.517637</td>\n",
       "      <td>0.258195</td>\n",
       "    </tr>\n",
       "    <tr>\n",
       "      <th>2009</th>\n",
       "      <td>4.401778</td>\n",
       "      <td>7.539972</td>\n",
       "      <td>0.552308</td>\n",
       "      <td>51.200001</td>\n",
       "      <td>0.678896</td>\n",
       "      <td>0.190099</td>\n",
       "      <td>0.850035</td>\n",
       "      <td>0.583926</td>\n",
       "      <td>0.237092</td>\n",
       "    </tr>\n",
       "    <tr>\n",
       "      <th>2010</th>\n",
       "      <td>4.758381</td>\n",
       "      <td>7.646709</td>\n",
       "      <td>0.539075</td>\n",
       "      <td>51.599998</td>\n",
       "      <td>0.600127</td>\n",
       "      <td>0.120590</td>\n",
       "      <td>0.706766</td>\n",
       "      <td>0.618265</td>\n",
       "      <td>0.275324</td>\n",
       "    </tr>\n",
       "    <tr>\n",
       "      <th>2011</th>\n",
       "      <td>3.831719</td>\n",
       "      <td>7.619532</td>\n",
       "      <td>0.521104</td>\n",
       "      <td>51.919998</td>\n",
       "      <td>0.495901</td>\n",
       "      <td>0.162427</td>\n",
       "      <td>0.731109</td>\n",
       "      <td>0.611387</td>\n",
       "      <td>0.267175</td>\n",
       "    </tr>\n",
       "    <tr>\n",
       "      <th>2012</th>\n",
       "      <td>3.782938</td>\n",
       "      <td>7.705479</td>\n",
       "      <td>0.520637</td>\n",
       "      <td>52.240002</td>\n",
       "      <td>0.530935</td>\n",
       "      <td>0.236032</td>\n",
       "      <td>0.775620</td>\n",
       "      <td>0.710385</td>\n",
       "      <td>0.267919</td>\n",
       "    </tr>\n",
       "  </tbody>\n",
       "</table>\n",
       "</div>"
      ],
      "text/plain": [
       "                   Life Ladder  Log GDP per capita  Social support  \\\n",
       "Country name year                                                    \n",
       "Afghanistan  2008     3.723590            7.370100        0.450662   \n",
       "             2009     4.401778            7.539972        0.552308   \n",
       "             2010     4.758381            7.646709        0.539075   \n",
       "             2011     3.831719            7.619532        0.521104   \n",
       "             2012     3.782938            7.705479        0.520637   \n",
       "\n",
       "                   Healthy life expectancy at birth  \\\n",
       "Country name year                                     \n",
       "Afghanistan  2008                         50.799999   \n",
       "             2009                         51.200001   \n",
       "             2010                         51.599998   \n",
       "             2011                         51.919998   \n",
       "             2012                         52.240002   \n",
       "\n",
       "                   Freedom to make life choices  Generosity  \\\n",
       "Country name year                                             \n",
       "Afghanistan  2008                      0.718114    0.167640   \n",
       "             2009                      0.678896    0.190099   \n",
       "             2010                      0.600127    0.120590   \n",
       "             2011                      0.495901    0.162427   \n",
       "             2012                      0.530935    0.236032   \n",
       "\n",
       "                   Perceptions of corruption  Positive affect  Negative affect  \n",
       "Country name year                                                               \n",
       "Afghanistan  2008                   0.881686         0.517637         0.258195  \n",
       "             2009                   0.850035         0.583926         0.237092  \n",
       "             2010                   0.706766         0.618265         0.275324  \n",
       "             2011                   0.731109         0.611387         0.267175  \n",
       "             2012                   0.775620         0.710385         0.267919  "
      ]
     },
     "execution_count": 2,
     "metadata": {},
     "output_type": "execute_result"
    }
   ],
   "source": [
    "happinessdf = pd.read_excel('DataPanelWHR2021C2.xls', index_col=[0,1])\n",
    "happinessdf.head()"
   ]
  },
  {
   "cell_type": "code",
   "execution_count": 10,
   "metadata": {},
   "outputs": [
    {
     "data": {
      "text/plain": [
       "Life Ladder                         1949\n",
       "Log GDP per capita                  1913\n",
       "Social support                      1936\n",
       "Healthy life expectancy at birth    1894\n",
       "Freedom to make life choices        1917\n",
       "Generosity                          1860\n",
       "Perceptions of corruption           1839\n",
       "Positive affect                     1927\n",
       "Negative affect                     1933\n",
       "dtype: int64"
      ]
     },
     "execution_count": 10,
     "metadata": {},
     "output_type": "execute_result"
    }
   ],
   "source": [
    "happinessdf.count()"
   ]
  },
  {
   "cell_type": "code",
   "execution_count": 3,
   "metadata": {},
   "outputs": [
    {
     "data": {
      "text/plain": [
       "('Denmark', 2005)"
      ]
     },
     "execution_count": 3,
     "metadata": {},
     "output_type": "execute_result"
    }
   ],
   "source": [
    "#Happiest country and year\n",
    "happinessdf['Life Ladder'].idxmax()"
   ]
  },
  {
   "cell_type": "code",
   "execution_count": 4,
   "metadata": {},
   "outputs": [
    {
     "data": {
      "text/plain": [
       "8.01893424987793"
      ]
     },
     "execution_count": 4,
     "metadata": {},
     "output_type": "execute_result"
    }
   ],
   "source": [
    "happinessdf.loc['Denmark']['Life Ladder'].max()"
   ]
  },
  {
   "cell_type": "code",
   "execution_count": 5,
   "metadata": {},
   "outputs": [
    {
     "data": {
      "text/plain": [
       "7.680304718017578"
      ]
     },
     "execution_count": 5,
     "metadata": {},
     "output_type": "execute_result"
    }
   ],
   "source": [
    "#Average happiness of Denmark throughout the years 2005-2020\n",
    "happinessdf.loc['Denmark']['Life Ladder'].mean()"
   ]
  },
  {
   "cell_type": "code",
   "execution_count": 6,
   "metadata": {},
   "outputs": [
    {
     "data": {
      "text/plain": [
       "('Afghanistan', 2019)"
      ]
     },
     "execution_count": 6,
     "metadata": {},
     "output_type": "execute_result"
    }
   ],
   "source": [
    "#Least Happy country and year\n",
    "happinessdf['Life Ladder'].idxmin()"
   ]
  },
  {
   "cell_type": "code",
   "execution_count": 7,
   "metadata": {},
   "outputs": [
    {
     "data": {
      "text/plain": [
       "2.375091791152954"
      ]
     },
     "execution_count": 7,
     "metadata": {},
     "output_type": "execute_result"
    }
   ],
   "source": [
    "happinessdf.loc['Afghanistan']['Life Ladder'].min()"
   ]
  },
  {
   "cell_type": "code",
   "execution_count": 16,
   "metadata": {},
   "outputs": [
    {
     "data": {
      "image/png": "[encoded data removed]",
      "text/plain": [
       "<Figure size 432x288 with 1 Axes>"
      ]
     },
     "metadata": {
      "needs_background": "light"
     },
     "output_type": "display_data"
    }
   ],
   "source": [
    "#mean happiness over the years\n",
    "x = happinessdf.groupby('year').aggregate(np.mean)[\"Life Ladder\"]\n",
    "dy = happinessdf.groupby('year').aggregate(np.std)[\"Life Ladder\"]\n",
    "\n",
    "fig, ax = plt.subplots()\n",
    "\n",
    "ax.errorbar(x.index, x.values, yerr=dy, fmt='o', color='black',\n",
    "             ecolor='lightgray', elinewidth=3, capsize=0)\n",
    "\n",
    "plt.show()"
   ]
  },
  {
   "cell_type": "code",
   "execution_count": 11,
   "metadata": {},
   "outputs": [
    {
     "data": {
      "text/plain": [
       "<AxesSubplot:>"
      ]
     },
     "execution_count": 11,
     "metadata": {},
     "output_type": "execute_result"
    },
    {
     "data": {
      "image/png": "[encoded data removed]",
      "text/plain": [
       "<Figure size 792x576 with 2 Axes>"
      ]
     },
     "metadata": {
      "needs_background": "light"
     },
     "output_type": "display_data"
    }
   ],
   "source": [
    "#Highest correlations are between \n",
    "# 1. GDP and Healthy Life Exp, Life Ladder, Social Support\n",
    "# 2. Life Ladder and GDP, Social Support, Healthy Life Exp, Freedom, Positive affect\n",
    "# 3. Social support and Healthy Life\n",
    "# 4. Freedom to make life choices and Positive affect\n",
    "\n",
    "fig, ax = plt.subplots(figsize=(11,8))\n",
    "sns.heatmap(happinessdf.corr(method='pearson', min_periods=1), annot=True, ax=ax)"
   ]
  },
  {
   "cell_type": "code",
   "execution_count": 12,
   "metadata": {},
   "outputs": [
    {
     "data": {
      "text/html": [
       "<div>\n",
       "<style scoped>\n",
       "    .dataframe tbody tr th:only-of-type {\n",
       "        vertical-align: middle;\n",
       "    }\n",
       "\n",
       "    .dataframe tbody tr th {\n",
       "        vertical-align: top;\n",
       "    }\n",
       "\n",
       "    .dataframe thead th {\n",
       "        text-align: right;\n",
       "    }\n",
       "</style>\n",
       "<table border=\"1\" class=\"dataframe\">\n",
       "  <thead>\n",
       "    <tr style=\"text-align: right;\">\n",
       "      <th></th>\n",
       "      <th>Life Ladder</th>\n",
       "      <th>Log GDP per capita</th>\n",
       "      <th>Social support</th>\n",
       "      <th>Healthy life expectancy at birth</th>\n",
       "      <th>Freedom to make life choices</th>\n",
       "      <th>Generosity</th>\n",
       "      <th>Perceptions of corruption</th>\n",
       "      <th>Positive affect</th>\n",
       "      <th>Negative affect</th>\n",
       "    </tr>\n",
       "    <tr>\n",
       "      <th>year</th>\n",
       "      <th></th>\n",
       "      <th></th>\n",
       "      <th></th>\n",
       "      <th></th>\n",
       "      <th></th>\n",
       "      <th></th>\n",
       "      <th></th>\n",
       "      <th></th>\n",
       "      <th></th>\n",
       "    </tr>\n",
       "  </thead>\n",
       "  <tbody>\n",
       "    <tr>\n",
       "      <th>2005</th>\n",
       "      <td>7.463979</td>\n",
       "      <td>10.813766</td>\n",
       "      <td>0.947358</td>\n",
       "      <td>70.400002</td>\n",
       "      <td>0.901008</td>\n",
       "      <td>NaN</td>\n",
       "      <td>0.571342</td>\n",
       "      <td>0.869353</td>\n",
       "      <td>0.232795</td>\n",
       "    </tr>\n",
       "    <tr>\n",
       "      <th>2007</th>\n",
       "      <td>7.451880</td>\n",
       "      <td>10.881042</td>\n",
       "      <td>0.943854</td>\n",
       "      <td>70.800003</td>\n",
       "      <td>0.896018</td>\n",
       "      <td>0.344347</td>\n",
       "      <td>0.445437</td>\n",
       "      <td>0.817750</td>\n",
       "      <td>0.213336</td>\n",
       "    </tr>\n",
       "    <tr>\n",
       "      <th>2008</th>\n",
       "      <td>7.631012</td>\n",
       "      <td>10.898621</td>\n",
       "      <td>0.944202</td>\n",
       "      <td>71.000000</td>\n",
       "      <td>0.883287</td>\n",
       "      <td>0.365200</td>\n",
       "      <td>0.418940</td>\n",
       "      <td>0.788195</td>\n",
       "      <td>0.181690</td>\n",
       "    </tr>\n",
       "    <tr>\n",
       "      <th>2010</th>\n",
       "      <td>7.501876</td>\n",
       "      <td>10.864328</td>\n",
       "      <td>0.956537</td>\n",
       "      <td>71.400002</td>\n",
       "      <td>0.921448</td>\n",
       "      <td>0.349346</td>\n",
       "      <td>0.398592</td>\n",
       "      <td>0.853234</td>\n",
       "      <td>0.206079</td>\n",
       "    </tr>\n",
       "    <tr>\n",
       "      <th>2011</th>\n",
       "      <td>7.563798</td>\n",
       "      <td>10.875057</td>\n",
       "      <td>0.938396</td>\n",
       "      <td>71.519997</td>\n",
       "      <td>0.925432</td>\n",
       "      <td>0.335668</td>\n",
       "      <td>0.359396</td>\n",
       "      <td>0.862723</td>\n",
       "      <td>0.181386</td>\n",
       "    </tr>\n",
       "    <tr>\n",
       "      <th>2012</th>\n",
       "      <td>7.470716</td>\n",
       "      <td>10.861000</td>\n",
       "      <td>0.938885</td>\n",
       "      <td>71.639999</td>\n",
       "      <td>0.877119</td>\n",
       "      <td>0.288119</td>\n",
       "      <td>0.433754</td>\n",
       "      <td>0.860641</td>\n",
       "      <td>0.226290</td>\n",
       "    </tr>\n",
       "    <tr>\n",
       "      <th>2013</th>\n",
       "      <td>7.406550</td>\n",
       "      <td>10.856749</td>\n",
       "      <td>0.924705</td>\n",
       "      <td>71.760002</td>\n",
       "      <td>0.918996</td>\n",
       "      <td>0.304530</td>\n",
       "      <td>0.504530</td>\n",
       "      <td>0.866824</td>\n",
       "      <td>0.235443</td>\n",
       "    </tr>\n",
       "    <tr>\n",
       "      <th>2014</th>\n",
       "      <td>7.321188</td>\n",
       "      <td>10.867284</td>\n",
       "      <td>0.908996</td>\n",
       "      <td>71.879997</td>\n",
       "      <td>0.910180</td>\n",
       "      <td>0.331311</td>\n",
       "      <td>0.456948</td>\n",
       "      <td>0.867766</td>\n",
       "      <td>0.220657</td>\n",
       "    </tr>\n",
       "    <tr>\n",
       "      <th>2015</th>\n",
       "      <td>7.324437</td>\n",
       "      <td>10.882255</td>\n",
       "      <td>0.879010</td>\n",
       "      <td>72.000000</td>\n",
       "      <td>0.903979</td>\n",
       "      <td>0.261447</td>\n",
       "      <td>0.411822</td>\n",
       "      <td>0.834134</td>\n",
       "      <td>0.202129</td>\n",
       "    </tr>\n",
       "    <tr>\n",
       "      <th>2016</th>\n",
       "      <td>7.540877</td>\n",
       "      <td>10.898613</td>\n",
       "      <td>0.925944</td>\n",
       "      <td>72.099998</td>\n",
       "      <td>0.907310</td>\n",
       "      <td>0.238664</td>\n",
       "      <td>0.433304</td>\n",
       "      <td>0.838432</td>\n",
       "      <td>0.214851</td>\n",
       "    </tr>\n",
       "    <tr>\n",
       "      <th>2017</th>\n",
       "      <td>7.458965</td>\n",
       "      <td>10.921394</td>\n",
       "      <td>0.936501</td>\n",
       "      <td>72.199997</td>\n",
       "      <td>0.920320</td>\n",
       "      <td>0.250440</td>\n",
       "      <td>0.363134</td>\n",
       "      <td>0.852185</td>\n",
       "      <td>0.184520</td>\n",
       "    </tr>\n",
       "    <tr>\n",
       "      <th>2018</th>\n",
       "      <td>7.463097</td>\n",
       "      <td>10.941197</td>\n",
       "      <td>0.939443</td>\n",
       "      <td>72.300003</td>\n",
       "      <td>0.919985</td>\n",
       "      <td>0.161489</td>\n",
       "      <td>0.370558</td>\n",
       "      <td>0.861977</td>\n",
       "      <td>0.204794</td>\n",
       "    </tr>\n",
       "    <tr>\n",
       "      <th>2019</th>\n",
       "      <td>7.425269</td>\n",
       "      <td>10.953283</td>\n",
       "      <td>0.941477</td>\n",
       "      <td>72.400002</td>\n",
       "      <td>0.885593</td>\n",
       "      <td>0.212534</td>\n",
       "      <td>0.360068</td>\n",
       "      <td>0.838301</td>\n",
       "      <td>0.230502</td>\n",
       "    </tr>\n",
       "    <tr>\n",
       "      <th>2020</th>\n",
       "      <td>7.504448</td>\n",
       "      <td>10.900500</td>\n",
       "      <td>0.943956</td>\n",
       "      <td>72.500000</td>\n",
       "      <td>0.934523</td>\n",
       "      <td>0.151298</td>\n",
       "      <td>0.280605</td>\n",
       "      <td>0.783991</td>\n",
       "      <td>0.246511</td>\n",
       "    </tr>\n",
       "  </tbody>\n",
       "</table>\n",
       "</div>"
      ],
      "text/plain": [
       "      Life Ladder  Log GDP per capita  Social support  \\\n",
       "year                                                    \n",
       "2005     7.463979           10.813766        0.947358   \n",
       "2007     7.451880           10.881042        0.943854   \n",
       "2008     7.631012           10.898621        0.944202   \n",
       "2010     7.501876           10.864328        0.956537   \n",
       "2011     7.563798           10.875057        0.938396   \n",
       "2012     7.470716           10.861000        0.938885   \n",
       "2013     7.406550           10.856749        0.924705   \n",
       "2014     7.321188           10.867284        0.908996   \n",
       "2015     7.324437           10.882255        0.879010   \n",
       "2016     7.540877           10.898613        0.925944   \n",
       "2017     7.458965           10.921394        0.936501   \n",
       "2018     7.463097           10.941197        0.939443   \n",
       "2019     7.425269           10.953283        0.941477   \n",
       "2020     7.504448           10.900500        0.943956   \n",
       "\n",
       "      Healthy life expectancy at birth  Freedom to make life choices  \\\n",
       "year                                                                   \n",
       "2005                         70.400002                      0.901008   \n",
       "2007                         70.800003                      0.896018   \n",
       "2008                         71.000000                      0.883287   \n",
       "2010                         71.400002                      0.921448   \n",
       "2011                         71.519997                      0.925432   \n",
       "2012                         71.639999                      0.877119   \n",
       "2013                         71.760002                      0.918996   \n",
       "2014                         71.879997                      0.910180   \n",
       "2015                         72.000000                      0.903979   \n",
       "2016                         72.099998                      0.907310   \n",
       "2017                         72.199997                      0.920320   \n",
       "2018                         72.300003                      0.919985   \n",
       "2019                         72.400002                      0.885593   \n",
       "2020                         72.500000                      0.934523   \n",
       "\n",
       "      Generosity  Perceptions of corruption  Positive affect  Negative affect  \n",
       "year                                                                           \n",
       "2005         NaN                   0.571342         0.869353         0.232795  \n",
       "2007    0.344347                   0.445437         0.817750         0.213336  \n",
       "2008    0.365200                   0.418940         0.788195         0.181690  \n",
       "2010    0.349346                   0.398592         0.853234         0.206079  \n",
       "2011    0.335668                   0.359396         0.862723         0.181386  \n",
       "2012    0.288119                   0.433754         0.860641         0.226290  \n",
       "2013    0.304530                   0.504530         0.866824         0.235443  \n",
       "2014    0.331311                   0.456948         0.867766         0.220657  \n",
       "2015    0.261447                   0.411822         0.834134         0.202129  \n",
       "2016    0.238664                   0.433304         0.838432         0.214851  \n",
       "2017    0.250440                   0.363134         0.852185         0.184520  \n",
       "2018    0.161489                   0.370558         0.861977         0.204794  \n",
       "2019    0.212534                   0.360068         0.838301         0.230502  \n",
       "2020    0.151298                   0.280605         0.783991         0.246511  "
      ]
     },
     "execution_count": 12,
     "metadata": {},
     "output_type": "execute_result"
    }
   ],
   "source": [
    "happinessdf.loc['Netherlands']"
   ]
  },
  {
   "cell_type": "code",
   "execution_count": 14,
   "metadata": {},
   "outputs": [
    {
     "data": {
      "text/html": [
       "<div>\n",
       "<style scoped>\n",
       "    .dataframe tbody tr th:only-of-type {\n",
       "        vertical-align: middle;\n",
       "    }\n",
       "\n",
       "    .dataframe tbody tr th {\n",
       "        vertical-align: top;\n",
       "    }\n",
       "\n",
       "    .dataframe thead th {\n",
       "        text-align: right;\n",
       "    }\n",
       "</style>\n",
       "<table border=\"1\" class=\"dataframe\">\n",
       "  <thead>\n",
       "    <tr style=\"text-align: right;\">\n",
       "      <th></th>\n",
       "      <th>max</th>\n",
       "      <th>mean</th>\n",
       "      <th>min</th>\n",
       "    </tr>\n",
       "    <tr>\n",
       "      <th>Country name</th>\n",
       "      <th></th>\n",
       "      <th></th>\n",
       "      <th></th>\n",
       "    </tr>\n",
       "  </thead>\n",
       "  <tbody>\n",
       "    <tr>\n",
       "      <th>Afghanistan</th>\n",
       "      <td>4.758381</td>\n",
       "      <td>3.594628</td>\n",
       "      <td>2.375092</td>\n",
       "    </tr>\n",
       "    <tr>\n",
       "      <th>Albania</th>\n",
       "      <td>5.867422</td>\n",
       "      <td>5.019427</td>\n",
       "      <td>4.511101</td>\n",
       "    </tr>\n",
       "    <tr>\n",
       "      <th>Algeria</th>\n",
       "      <td>6.354898</td>\n",
       "      <td>5.389717</td>\n",
       "      <td>4.744627</td>\n",
       "    </tr>\n",
       "    <tr>\n",
       "      <th>Angola</th>\n",
       "      <td>5.589001</td>\n",
       "      <td>4.420299</td>\n",
       "      <td>3.794838</td>\n",
       "    </tr>\n",
       "    <tr>\n",
       "      <th>Argentina</th>\n",
       "      <td>6.775805</td>\n",
       "      <td>6.310166</td>\n",
       "      <td>5.792797</td>\n",
       "    </tr>\n",
       "    <tr>\n",
       "      <th>...</th>\n",
       "      <td>...</td>\n",
       "      <td>...</td>\n",
       "      <td>...</td>\n",
       "    </tr>\n",
       "    <tr>\n",
       "      <th>Venezuela</th>\n",
       "      <td>7.478455</td>\n",
       "      <td>6.019735</td>\n",
       "      <td>4.041115</td>\n",
       "    </tr>\n",
       "    <tr>\n",
       "      <th>Vietnam</th>\n",
       "      <td>5.767344</td>\n",
       "      <td>5.305872</td>\n",
       "      <td>5.022699</td>\n",
       "    </tr>\n",
       "    <tr>\n",
       "      <th>Yemen</th>\n",
       "      <td>4.809259</td>\n",
       "      <td>3.912124</td>\n",
       "      <td>2.982674</td>\n",
       "    </tr>\n",
       "    <tr>\n",
       "      <th>Zambia</th>\n",
       "      <td>5.260361</td>\n",
       "      <td>4.551818</td>\n",
       "      <td>3.306797</td>\n",
       "    </tr>\n",
       "    <tr>\n",
       "      <th>Zimbabwe</th>\n",
       "      <td>4.955101</td>\n",
       "      <td>3.882689</td>\n",
       "      <td>2.693523</td>\n",
       "    </tr>\n",
       "  </tbody>\n",
       "</table>\n",
       "<p>166 rows × 3 columns</p>\n",
       "</div>"
      ],
      "text/plain": [
       "                   max      mean       min\n",
       "Country name                              \n",
       "Afghanistan   4.758381  3.594628  2.375092\n",
       "Albania       5.867422  5.019427  4.511101\n",
       "Algeria       6.354898  5.389717  4.744627\n",
       "Angola        5.589001  4.420299  3.794838\n",
       "Argentina     6.775805  6.310166  5.792797\n",
       "...                ...       ...       ...\n",
       "Venezuela     7.478455  6.019735  4.041115\n",
       "Vietnam       5.767344  5.305872  5.022699\n",
       "Yemen         4.809259  3.912124  2.982674\n",
       "Zambia        5.260361  4.551818  3.306797\n",
       "Zimbabwe      4.955101  3.882689  2.693523\n",
       "\n",
       "[166 rows x 3 columns]"
      ]
     },
     "execution_count": 14,
     "metadata": {},
     "output_type": "execute_result"
    }
   ],
   "source": [
    "# Group each row by Country; For each different country name, present max, mean and min of column Life Ladder\n",
    "happinessdf.groupby('Country name')['Life Ladder'].aggregate(['max', 'mean', 'min'])"
   ]
  },
  {
   "cell_type": "code",
   "execution_count": 15,
   "metadata": {},
   "outputs": [
    {
     "data": {
      "image/png": "[encoded data removed]",
      "text/plain": [
       "<Figure size 432x288 with 1 Axes>"
      ]
     },
     "metadata": {
      "needs_background": "light"
     },
     "output_type": "display_data"
    }
   ],
   "source": [
    "# GDP evolution from 2006 to 2007 \n",
    "x = happinessdf.groupby('year').mean()['Log GDP per capita']\n",
    "x.plot()\n",
    "plt.show()"
   ]
  },
  {
   "cell_type": "code",
   "execution_count": 20,
   "metadata": {},
   "outputs": [
    {
     "data": {
      "image/png": "[encoded data removed]",
      "text/plain": [
       "<Figure size 432x288 with 1 Axes>"
      ]
     },
     "metadata": {
      "needs_background": "light"
     },
     "output_type": "display_data"
    }
   ],
   "source": [
    "#relation between gdp and happiness\n",
    "\n",
    "x = happinessdf.loc(axis=0)[:,2018][[\"Log GDP per capita\",\"Healthy life expectancy at birth\"]]\n",
    "x.plot.scatter(x=\"Log GDP per capita\", y=\"Healthy life expectancy at birth\",c='black')\n",
    "plt.show()"
   ]
  },
  {
   "cell_type": "code",
   "execution_count": 19,
   "metadata": {},
   "outputs": [
    {
     "data": {
      "image/png": "[encoded data removed]",
      "text/plain": [
       "<Figure size 432x288 with 1 Axes>"
      ]
     },
     "metadata": {
      "needs_background": "light"
     },
     "output_type": "display_data"
    }
   ],
   "source": [
    "#the distribution of life expectancy in the top 50% happiest countries compare with the bottom 50%, considering all years\n",
    "\n",
    "happy = happinessdf[\"Healthy life expectancy at birth\"][happinessdf[\"Life Ladder\"] > happinessdf[\"Life Ladder\"].median()]\n",
    "sad = happinessdf[\"Healthy life expectancy at birth\"][happinessdf[\"Life Ladder\"] <= happinessdf[\"Life Ladder\"].median()]\n",
    "\n",
    "x1 = happy.values\n",
    "x2 = sad.values\n",
    "\n",
    "kwargs = dict(histtype='stepfilled', alpha=0.3, bins=40)\n",
    "\n",
    "plt.hist(x1, **kwargs)\n",
    "plt.hist(x2, **kwargs)\n",
    "\n",
    "plt.show()"
   ]
  },
  {
   "cell_type": "code",
   "execution_count": 21,
   "metadata": {},
   "outputs": [
    {
     "data": {
      "image/png": "[encoded data removed]",
      "text/plain": [
       "<Figure size 432x288 with 1 Axes>"
      ]
     },
     "metadata": {
      "needs_background": "light"
     },
     "output_type": "display_data"
    }
   ],
   "source": [
    "# Alternative way for above point\n",
    "\n",
    "happy = happinessdf[\"Healthy life expectancy at birth\"].groupby(\"Country name\").mean().nlargest(83)\n",
    "sad = happinessdf[\"Healthy life expectancy at birth\"].groupby(\"Country name\").mean().nsmallest(83)\n",
    "\n",
    "x1 = happy.values\n",
    "x2 = sad.values\n",
    "\n",
    "kwargs = dict(histtype='stepfilled', alpha=0.3, bins=40)\n",
    "\n",
    "plt.hist(x1, **kwargs)\n",
    "plt.hist(x2, **kwargs)\n",
    "\n",
    "plt.show()"
   ]
  }
 ],
 "metadata": {
  "kernelspec": {
   "display_name": "Python 3 (ipykernel)",
   "language": "python",
   "name": "python3"
  },
  "language_info": {
   "codemirror_mode": {
    "name": "ipython",
    "version": 3
   },
   "file_extension": ".py",
   "mimetype": "text/x-python",
   "name": "python",
   "nbconvert_exporter": "python",
   "pygments_lexer": "ipython3",
   "version": "3.8.11"
  }
 },
 "nbformat": 4,
 "nbformat_minor": 4
}
